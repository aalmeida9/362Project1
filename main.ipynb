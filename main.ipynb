{
 "cells": [
  {
   "cell_type": "code",
   "execution_count": 1,
   "metadata": {},
   "outputs": [],
   "source": [
    "#import packages \n",
    "import numpy as np\n",
    "import pandas as pd\n",
    "import statistics\n",
    "from scipy import stats"
   ]
  },
  {
   "cell_type": "code",
   "execution_count": 2,
   "metadata": {
    "scrolled": false
   },
   "outputs": [],
   "source": [
    "#import, and slice data (2nd sample group first 100 responses from revised survey, not including 1st sample group of 20)\n",
    "df = pd.read_csv(\"UMass Sustainability Initiative.csv\", sep=\",\")\n",
    "df = df.iloc[0:100]\n",
    "#df.info()"
   ]
  },
  {
   "cell_type": "code",
   "execution_count": 3,
   "metadata": {
    "scrolled": false
   },
   "outputs": [
    {
     "data": {
      "text/html": [
       "<div>\n",
       "<style scoped>\n",
       "    .dataframe tbody tr th:only-of-type {\n",
       "        vertical-align: middle;\n",
       "    }\n",
       "\n",
       "    .dataframe tbody tr th {\n",
       "        vertical-align: top;\n",
       "    }\n",
       "\n",
       "    .dataframe thead th {\n",
       "        text-align: right;\n",
       "    }\n",
       "</style>\n",
       "<table border=\"1\" class=\"dataframe\">\n",
       "  <thead>\n",
       "    <tr style=\"text-align: right;\">\n",
       "      <th></th>\n",
       "      <th>Timestamp</th>\n",
       "      <th>Age</th>\n",
       "      <th>Gender</th>\n",
       "      <th>Year</th>\n",
       "      <th>Major</th>\n",
       "      <th>On Campus</th>\n",
       "      <th>Location</th>\n",
       "      <th>Frequency</th>\n",
       "      <th>Reasoning</th>\n",
       "      <th>Rules</th>\n",
       "      <th>Likelihood</th>\n",
       "      <th>Symbol</th>\n",
       "      <th>Items</th>\n",
       "      <th>Habits</th>\n",
       "      <th>Prize</th>\n",
       "    </tr>\n",
       "  </thead>\n",
       "  <tbody>\n",
       "    <tr>\n",
       "      <th>0</th>\n",
       "      <td>2020/02/18 3:03:42 PM EST</td>\n",
       "      <td>20</td>\n",
       "      <td>Male</td>\n",
       "      <td>Sophomore</td>\n",
       "      <td>CIS</td>\n",
       "      <td>Yes</td>\n",
       "      <td>Birch</td>\n",
       "      <td>Often</td>\n",
       "      <td>Sustainability;Ease of Access</td>\n",
       "      <td>Yes</td>\n",
       "      <td>Yes</td>\n",
       "      <td>Yes</td>\n",
       "      <td>Paper;Cardboard;Plastic Bottles;Glass Bottles;...</td>\n",
       "      <td>3</td>\n",
       "      <td>No</td>\n",
       "    </tr>\n",
       "    <tr>\n",
       "      <th>1</th>\n",
       "      <td>2020/02/18 3:05:49 PM EST</td>\n",
       "      <td>20</td>\n",
       "      <td>Male</td>\n",
       "      <td>Junior</td>\n",
       "      <td>Computer Science</td>\n",
       "      <td>Yes</td>\n",
       "      <td>Aspen</td>\n",
       "      <td>Always</td>\n",
       "      <td>Sustainability;Habit</td>\n",
       "      <td>No</td>\n",
       "      <td>Yes</td>\n",
       "      <td>No</td>\n",
       "      <td>Paper;Cardboard;Plastic Bottles;Glass Bottles;...</td>\n",
       "      <td>4</td>\n",
       "      <td>jegan2@umassd.edu</td>\n",
       "    </tr>\n",
       "    <tr>\n",
       "      <th>2</th>\n",
       "      <td>2020/02/18 3:09:10 PM EST</td>\n",
       "      <td>23</td>\n",
       "      <td>Male</td>\n",
       "      <td>Junior</td>\n",
       "      <td>Computer Science</td>\n",
       "      <td>No</td>\n",
       "      <td>No</td>\n",
       "      <td>Always</td>\n",
       "      <td>Habit</td>\n",
       "      <td>Yes</td>\n",
       "      <td>No</td>\n",
       "      <td>No</td>\n",
       "      <td>Paper;Cardboard;Plastic Bottles;Glass Bottles;...</td>\n",
       "      <td>2</td>\n",
       "      <td>No</td>\n",
       "    </tr>\n",
       "    <tr>\n",
       "      <th>3</th>\n",
       "      <td>2020/02/18 3:10:15 PM EST</td>\n",
       "      <td>21</td>\n",
       "      <td>Male</td>\n",
       "      <td>Junior</td>\n",
       "      <td>Computer Science</td>\n",
       "      <td>Yes</td>\n",
       "      <td>Aspen</td>\n",
       "      <td>Always</td>\n",
       "      <td>Sustainability;Ease of Access;Habit</td>\n",
       "      <td>No</td>\n",
       "      <td>Yes</td>\n",
       "      <td>Yes</td>\n",
       "      <td>Paper;Cardboard;Plastic Bottles;Glass Bottles</td>\n",
       "      <td>3</td>\n",
       "      <td>No</td>\n",
       "    </tr>\n",
       "    <tr>\n",
       "      <th>4</th>\n",
       "      <td>2020/02/18 3:12:47 PM EST</td>\n",
       "      <td>21</td>\n",
       "      <td>Male</td>\n",
       "      <td>Junior</td>\n",
       "      <td>MIS</td>\n",
       "      <td>No</td>\n",
       "      <td>No</td>\n",
       "      <td>Rarely</td>\n",
       "      <td>Sustainability</td>\n",
       "      <td>Yes</td>\n",
       "      <td>Yes</td>\n",
       "      <td>Yes</td>\n",
       "      <td>Paper;Cardboard</td>\n",
       "      <td>3</td>\n",
       "      <td>email</td>\n",
       "    </tr>\n",
       "  </tbody>\n",
       "</table>\n",
       "</div>"
      ],
      "text/plain": [
       "                   Timestamp Age Gender       Year             Major  \\\n",
       "0  2020/02/18 3:03:42 PM EST  20   Male  Sophomore               CIS   \n",
       "1  2020/02/18 3:05:49 PM EST  20   Male     Junior  Computer Science   \n",
       "2  2020/02/18 3:09:10 PM EST  23   Male     Junior  Computer Science   \n",
       "3  2020/02/18 3:10:15 PM EST  21   Male     Junior  Computer Science   \n",
       "4  2020/02/18 3:12:47 PM EST  21   Male     Junior               MIS   \n",
       "\n",
       "  On Campus Location Frequency                            Reasoning Rules  \\\n",
       "0       Yes    Birch     Often        Sustainability;Ease of Access   Yes   \n",
       "1       Yes    Aspen    Always                 Sustainability;Habit    No   \n",
       "2        No       No    Always                                Habit   Yes   \n",
       "3       Yes    Aspen    Always  Sustainability;Ease of Access;Habit    No   \n",
       "4        No       No    Rarely                       Sustainability   Yes   \n",
       "\n",
       "  Likelihood Symbol                                              Items  \\\n",
       "0        Yes    Yes  Paper;Cardboard;Plastic Bottles;Glass Bottles;...   \n",
       "1        Yes     No  Paper;Cardboard;Plastic Bottles;Glass Bottles;...   \n",
       "2         No     No  Paper;Cardboard;Plastic Bottles;Glass Bottles;...   \n",
       "3        Yes    Yes      Paper;Cardboard;Plastic Bottles;Glass Bottles   \n",
       "4        Yes    Yes                                    Paper;Cardboard   \n",
       "\n",
       "   Habits              Prize  \n",
       "0       3                 No  \n",
       "1       4  jegan2@umassd.edu  \n",
       "2       2                 No  \n",
       "3       3                 No  \n",
       "4       3             email   "
      ]
     },
     "execution_count": 3,
     "metadata": {},
     "output_type": "execute_result"
    }
   ],
   "source": [
    "#data cleaning\n",
    "df.rename(columns = { 'How old are you?':'Age', 'What is your gender?':'Gender', 'What year are you?':'Year', 'What is your major?':'Major',\n",
    "                     'Do you live on campus?':'On Campus', 'If you do live on campus, where do live?':'Location',\n",
    "                     'How often do you recycle?':'Frequency', 'Why do you recycle?':'Reasoning',\n",
    "                     'Are the recycling rules on campus clearly presented?':'Rules', \n",
    "                     'If not, if the recycling rules were clearer would you be more likely to recycle?':'Likelihood',\n",
    "                     'Do you look for the recycle symbol before recycling?':'Symbol', 'What items do you usually recycle?':'Items',\n",
    "                     'Did the survey overall make you think about your own personal recycling methods and habits?':'Habits',\n",
    "                     'Whats the best way to reach you for the prize draw? (Email, Phone, etc. )':'Prize'}, inplace = True)\n",
    "#print(df.columns)\n",
    "df.fillna('No', inplace=True)\n",
    "df.head()"
   ]
  },
  {
   "cell_type": "code",
   "execution_count": 18,
   "metadata": {
    "scrolled": true
   },
   "outputs": [
    {
     "name": "stdout",
     "output_type": "stream",
     "text": [
      "The mean is 3.67 the Standard Erorr of the mean is 0.11580587204455565\n",
      "The variance is 1.3546464646464647 the standard deviation is 1.1638928063384812\n",
      "The min is 1, Q1 is 3.0, median is 4.0, Q3 is 5.0, max is 5\n",
      "Skewness: -0.8025214276103186\n"
     ]
    }
   ],
   "source": [
    "#basic data analysis for quantitive data, habits and age distribution\n",
    "def distribution(df):\n",
    "    print(f'The mean is {df.mean()} the Standard Erorr of the mean is {stats.sem(df, axis=None, ddof=0)}')\n",
    "    print(f'The variance is {statistics.variance(df)} the standard deviation is {df.std()}')\n",
    "    print(f'The min is {df.min()}, Q1 is {np.quantile(df, .25)}, median is {df.median()}, Q3 is {np.quantile(df, .75)}, max is {df.max()}')\n",
    "    print(f'Skewness: {stats.skew(df)}')\n",
    "        \n",
    "distribution(df['Habits'])\n"
   ]
  },
  {
   "cell_type": "code",
   "execution_count": 19,
   "metadata": {},
   "outputs": [
    {
     "data": {
      "text/plain": [
       "20    28\n",
       "21    25\n",
       "19    22\n",
       "18    10\n",
       "22     8\n",
       "23     4\n",
       "24     3\n",
       "Name: Age, dtype: int64"
      ]
     },
     "execution_count": 19,
     "metadata": {},
     "output_type": "execute_result"
    }
   ],
   "source": [
    "#Age doesn't work for some reason with the distribution function\n",
    "#Typer Error: can't multiply sequence by non-int of type 'float' there's another error thats says something about dividing str and ints\n",
    "#code that doesn't work is commented out below\n",
    "#if you push a jupyter notebook with errors it will push the error log as well btw, same goes for all output \n",
    "#distribution(df['Age'])\n",
    "#df['Age'].min()\n",
    "#np.percentile(df['Age'], 25)\n",
    "#if you check the frequency of values they're all ints (int64) so I'm not sure why there's errors since distr. works for Habits\n",
    "df['Age'].value_counts(dropna=False)"
   ]
  },
  {
   "cell_type": "code",
   "execution_count": null,
   "metadata": {},
   "outputs": [],
   "source": [
    "#sorting\n",
    "#df.sort_values()"
   ]
  },
  {
   "cell_type": "code",
   "execution_count": null,
   "metadata": {},
   "outputs": [],
   "source": [
    "df['Reasoning'] = df['Reasoning'].str.split(\";\", expand = False)\n",
    "df['Items'] = df['Items'].str.split(\";\", expand = False)\n",
    "#df['Why do you recycle?']\n",
    "type(df)"
   ]
  },
  {
   "cell_type": "code",
   "execution_count": null,
   "metadata": {
    "scrolled": true
   },
   "outputs": [],
   "source": [
    "type(df['Reasoning'][0][0])\n",
    "df['Reasoning']"
   ]
  },
  {
   "cell_type": "code",
   "execution_count": 5,
   "metadata": {
    "scrolled": true
   },
   "outputs": [
    {
     "data": {
      "text/plain": [
       "Nursing                                10\n",
       "Computer Science                        7\n",
       "Computer Engineering                    4\n",
       "Marketing                               3\n",
       "Mechanical Engineering                  3\n",
       "Psychology                              3\n",
       "Data Science                            3\n",
       "Mechanical engineering                  2\n",
       "Computer Science                        2\n",
       "CIS                                     2\n",
       "Marketing                               2\n",
       "health and society                      2\n",
       "Finance                                 2\n",
       "Electrical engineering                  2\n",
       "Computer engineering                    2\n",
       "Biology                                 2\n",
       "Bioengineering                          2\n",
       "Accounting                              2\n",
       "MIS                                     2\n",
       "Electrical engineering                  2\n",
       "Health and society                      2\n",
       "cjs                                     1\n",
       "Physics                                 1\n",
       "Bioengineering                          1\n",
       "Nursing                                 1\n",
       "Computer science                        1\n",
       "Mechanical Engineering                  1\n",
       "Comp sci                                1\n",
       "Political science                       1\n",
       "Political Science                       1\n",
       "Graphic Design                          1\n",
       "Mls                                     1\n",
       "Philosophy                              1\n",
       "accounting                              1\n",
       "Political Science                       1\n",
       "Mechanical engineering                  1\n",
       "Psych                                   1\n",
       "Undeclared                              1\n",
       "Interior architecture and design        1\n",
       "Smd                                     1\n",
       "Biology                                 1\n",
       "Electrical and Computer Engineering     1\n",
       "Crime and Justice Studies               1\n",
       "Psych/Pre-med                           1\n",
       "Management                              1\n",
       "Accounting                              1\n",
       "nursing                                 1\n",
       "History                                 1\n",
       "Biochem                                 1\n",
       "Health and Society                      1\n",
       "Data Science !                          1\n",
       "Civil Engineering                       1\n",
       "Computer science                        1\n",
       "Computer Engineering                    1\n",
       "Mathematics                             1\n",
       "Electrical Engineering                  1\n",
       "psychology                              1\n",
       "Interior Architecture + Design          1\n",
       "Engineering Undeclared                  1\n",
       "MNE                                     1\n",
       "Name: Major, dtype: int64"
      ]
     },
     "execution_count": 5,
     "metadata": {},
     "output_type": "execute_result"
    }
   ],
   "source": [
    "#view frequency of responses\n",
    "#df['Reasoning'].value_counts(dropna=False)\n",
    "df['Major'].value_counts(dropna=False)"
   ]
  }
 ],
 "metadata": {
  "kernelspec": {
   "display_name": "Python 3",
   "language": "python",
   "name": "python3"
  },
  "language_info": {
   "codemirror_mode": {
    "name": "ipython",
    "version": 3
   },
   "file_extension": ".py",
   "mimetype": "text/x-python",
   "name": "python",
   "nbconvert_exporter": "python",
   "pygments_lexer": "ipython3",
   "version": "3.7.3"
  }
 },
 "nbformat": 4,
 "nbformat_minor": 2
}
