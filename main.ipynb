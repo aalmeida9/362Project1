{
 "cells": [
  {
   "cell_type": "code",
   "execution_count": 1,
   "metadata": {},
   "outputs": [],
   "source": [
    "#import packages \n",
    "import numpy as np\n",
    "import pandas as pd"
   ]
  },
  {
   "cell_type": "code",
   "execution_count": 19,
   "metadata": {
    "scrolled": false
   },
   "outputs": [],
   "source": [
    "#import, and slice data (2nd sample group first 100 responses from revised survey, not including 1st sample group of 20)\n",
    "df = pd.read_csv(\"UMass Sustainability Initiative.csv\", sep=\",\")\n",
    "df = df.iloc[0:100]\n",
    "#df.info()"
   ]
  },
  {
   "cell_type": "code",
   "execution_count": 23,
   "metadata": {},
   "outputs": [
    {
     "data": {
      "text/html": [
       "<div>\n",
       "<style scoped>\n",
       "    .dataframe tbody tr th:only-of-type {\n",
       "        vertical-align: middle;\n",
       "    }\n",
       "\n",
       "    .dataframe tbody tr th {\n",
       "        vertical-align: top;\n",
       "    }\n",
       "\n",
       "    .dataframe thead th {\n",
       "        text-align: right;\n",
       "    }\n",
       "</style>\n",
       "<table border=\"1\" class=\"dataframe\">\n",
       "  <thead>\n",
       "    <tr style=\"text-align: right;\">\n",
       "      <th></th>\n",
       "      <th>Timestamp</th>\n",
       "      <th>Age</th>\n",
       "      <th>Gender</th>\n",
       "      <th>Year</th>\n",
       "      <th>Major</th>\n",
       "      <th>On Campus</th>\n",
       "      <th>Location</th>\n",
       "      <th>Frequency</th>\n",
       "      <th>Reasoning</th>\n",
       "      <th>Rules</th>\n",
       "      <th>Likelihood</th>\n",
       "      <th>Symbol</th>\n",
       "      <th>Items</th>\n",
       "      <th>Habits</th>\n",
       "      <th>Prize</th>\n",
       "    </tr>\n",
       "  </thead>\n",
       "  <tbody>\n",
       "    <tr>\n",
       "      <th>0</th>\n",
       "      <td>2020/02/18 3:03:42 PM EST</td>\n",
       "      <td>20</td>\n",
       "      <td>Male</td>\n",
       "      <td>Sophomore</td>\n",
       "      <td>CIS</td>\n",
       "      <td>Yes</td>\n",
       "      <td>Birch</td>\n",
       "      <td>Often</td>\n",
       "      <td>Sustainability;Ease of Access</td>\n",
       "      <td>Yes</td>\n",
       "      <td>Yes</td>\n",
       "      <td>Yes</td>\n",
       "      <td>Paper;Cardboard;Plastic Bottles;Glass Bottles;...</td>\n",
       "      <td>3</td>\n",
       "      <td>No</td>\n",
       "    </tr>\n",
       "    <tr>\n",
       "      <th>1</th>\n",
       "      <td>2020/02/18 3:05:49 PM EST</td>\n",
       "      <td>20</td>\n",
       "      <td>Male</td>\n",
       "      <td>Junior</td>\n",
       "      <td>Computer Science</td>\n",
       "      <td>Yes</td>\n",
       "      <td>Aspen</td>\n",
       "      <td>Always</td>\n",
       "      <td>Sustainability;Habit</td>\n",
       "      <td>No</td>\n",
       "      <td>Yes</td>\n",
       "      <td>No</td>\n",
       "      <td>Paper;Cardboard;Plastic Bottles;Glass Bottles;...</td>\n",
       "      <td>4</td>\n",
       "      <td>jegan2@umassd.edu</td>\n",
       "    </tr>\n",
       "    <tr>\n",
       "      <th>2</th>\n",
       "      <td>2020/02/18 3:09:10 PM EST</td>\n",
       "      <td>23</td>\n",
       "      <td>Male</td>\n",
       "      <td>Junior</td>\n",
       "      <td>Computer Science</td>\n",
       "      <td>No</td>\n",
       "      <td>No</td>\n",
       "      <td>Always</td>\n",
       "      <td>Habit</td>\n",
       "      <td>Yes</td>\n",
       "      <td>No</td>\n",
       "      <td>No</td>\n",
       "      <td>Paper;Cardboard;Plastic Bottles;Glass Bottles;...</td>\n",
       "      <td>2</td>\n",
       "      <td>No</td>\n",
       "    </tr>\n",
       "    <tr>\n",
       "      <th>3</th>\n",
       "      <td>2020/02/18 3:10:15 PM EST</td>\n",
       "      <td>21</td>\n",
       "      <td>Male</td>\n",
       "      <td>Junior</td>\n",
       "      <td>Computer Science</td>\n",
       "      <td>Yes</td>\n",
       "      <td>Aspen</td>\n",
       "      <td>Always</td>\n",
       "      <td>Sustainability;Ease of Access;Habit</td>\n",
       "      <td>No</td>\n",
       "      <td>Yes</td>\n",
       "      <td>Yes</td>\n",
       "      <td>Paper;Cardboard;Plastic Bottles;Glass Bottles</td>\n",
       "      <td>3</td>\n",
       "      <td>No</td>\n",
       "    </tr>\n",
       "    <tr>\n",
       "      <th>4</th>\n",
       "      <td>2020/02/18 3:12:47 PM EST</td>\n",
       "      <td>21</td>\n",
       "      <td>Male</td>\n",
       "      <td>Junior</td>\n",
       "      <td>MIS</td>\n",
       "      <td>No</td>\n",
       "      <td>No</td>\n",
       "      <td>Rarely</td>\n",
       "      <td>Sustainability</td>\n",
       "      <td>Yes</td>\n",
       "      <td>Yes</td>\n",
       "      <td>Yes</td>\n",
       "      <td>Paper;Cardboard</td>\n",
       "      <td>3</td>\n",
       "      <td>email</td>\n",
       "    </tr>\n",
       "  </tbody>\n",
       "</table>\n",
       "</div>"
      ],
      "text/plain": [
       "                   Timestamp Age Gender       Year             Major  \\\n",
       "0  2020/02/18 3:03:42 PM EST  20   Male  Sophomore               CIS   \n",
       "1  2020/02/18 3:05:49 PM EST  20   Male     Junior  Computer Science   \n",
       "2  2020/02/18 3:09:10 PM EST  23   Male     Junior  Computer Science   \n",
       "3  2020/02/18 3:10:15 PM EST  21   Male     Junior  Computer Science   \n",
       "4  2020/02/18 3:12:47 PM EST  21   Male     Junior               MIS   \n",
       "\n",
       "  On Campus Location Frequency                            Reasoning Rules  \\\n",
       "0       Yes    Birch     Often        Sustainability;Ease of Access   Yes   \n",
       "1       Yes    Aspen    Always                 Sustainability;Habit    No   \n",
       "2        No       No    Always                                Habit   Yes   \n",
       "3       Yes    Aspen    Always  Sustainability;Ease of Access;Habit    No   \n",
       "4        No       No    Rarely                       Sustainability   Yes   \n",
       "\n",
       "  Likelihood Symbol                                              Items  \\\n",
       "0        Yes    Yes  Paper;Cardboard;Plastic Bottles;Glass Bottles;...   \n",
       "1        Yes     No  Paper;Cardboard;Plastic Bottles;Glass Bottles;...   \n",
       "2         No     No  Paper;Cardboard;Plastic Bottles;Glass Bottles;...   \n",
       "3        Yes    Yes      Paper;Cardboard;Plastic Bottles;Glass Bottles   \n",
       "4        Yes    Yes                                    Paper;Cardboard   \n",
       "\n",
       "   Habits              Prize  \n",
       "0       3                 No  \n",
       "1       4  jegan2@umassd.edu  \n",
       "2       2                 No  \n",
       "3       3                 No  \n",
       "4       3             email   "
      ]
     },
     "execution_count": 23,
     "metadata": {},
     "output_type": "execute_result"
    }
   ],
   "source": [
    "#data cleaning\n",
    "df.rename(columns = { 'How old are you?':'Age', 'What is your gender?':'Gender', 'What year are you?':'Year', 'What is your major?':'Major',\n",
    "                     'Do you live on campus?':'On Campus', 'If you do live on campus, where do live?':'Location',\n",
    "                     'How often do you recycle?':'Frequency', 'Why do you recycle?':'Reasoning',\n",
    "                     'Are the recycling rules on campus clearly presented?':'Rules', \n",
    "                     'If not, if the recycling rules were clearer would you be more likely to recycle?':'Likelihood',\n",
    "                     'Do you look for the recycle symbol before recycling?':'Symbol', 'What items do you usually recycle?':'Items',\n",
    "                     'Did the survey overall make you think about your own personal recycling methods and habits?':'Habits',\n",
    "                     'Whats the best way to reach you for the prize draw? (Email, Phone, etc. )':'Prize'}, inplace = True)\n",
    "#print(df.columns)\n",
    "df.fillna('No', inplace=True)\n",
    "df.head()"
   ]
  },
  {
   "cell_type": "code",
   "execution_count": 4,
   "metadata": {},
   "outputs": [],
   "source": [
    "#sorting\n",
    "#df.sort_values()"
   ]
  },
  {
   "cell_type": "code",
   "execution_count": 5,
   "metadata": {},
   "outputs": [
    {
     "data": {
      "text/plain": [
       "pandas.core.frame.DataFrame"
      ]
     },
     "execution_count": 5,
     "metadata": {},
     "output_type": "execute_result"
    }
   ],
   "source": [
    "df['Why do you recycle?'] = df['Why do you recycle?'].str.split(\";\", expand = False)\n",
    "df['What items do you usually recycle?'] = df['What items do you usually recycle?'].str.split(\";\", expand = False)\n",
    "#df['Why do you recycle?']\n",
    "type(df)"
   ]
  },
  {
   "cell_type": "code",
   "execution_count": 6,
   "metadata": {},
   "outputs": [
    {
     "data": {
      "text/plain": [
       "0            [Sustainability, Ease of Access]\n",
       "1                     [Sustainability, Habit]\n",
       "2                                     [Habit]\n",
       "3     [Sustainability, Ease of Access, Habit]\n",
       "4                            [Sustainability]\n",
       "5                            [Ease of Access]\n",
       "6                            [Sustainability]\n",
       "7                     [Sustainability, Habit]\n",
       "8            [Sustainability, Ease of Access]\n",
       "9                     [Ease of Access, Habit]\n",
       "10                                    [Habit]\n",
       "11    [Sustainability, Ease of Access, Habit]\n",
       "12                                    [Habit]\n",
       "13                                    [Habit]\n",
       "14                                    [Habit]\n",
       "15                           [Ease of Access]\n",
       "16                    [Sustainability, Habit]\n",
       "17                    [Sustainability, Habit]\n",
       "18                                    [Habit]\n",
       "19                           [Sustainability]\n",
       "20                                    [Habit]\n",
       "21                                    [Habit]\n",
       "22                           [Sustainability]\n",
       "23                    [Sustainability, Habit]\n",
       "24                    [Sustainability, Habit]\n",
       "25                                    [Habit]\n",
       "26                           [Ease of Access]\n",
       "27                           [Ease of Access]\n",
       "28                           [Ease of Access]\n",
       "29                           [Sustainability]\n",
       "                       ...                   \n",
       "70                           [Sustainability]\n",
       "71    [Sustainability, Ease of Access, Habit]\n",
       "72                           [Sustainability]\n",
       "73                           [Ease of Access]\n",
       "74                    [Sustainability, Habit]\n",
       "75                                    [Habit]\n",
       "76                           [Ease of Access]\n",
       "77                           [Sustainability]\n",
       "78                                    [Habit]\n",
       "79    [Sustainability, Ease of Access, Habit]\n",
       "80    [Sustainability, Ease of Access, Habit]\n",
       "81    [Sustainability, Ease of Access, Habit]\n",
       "82                         [Required by city]\n",
       "83                                    [Habit]\n",
       "84                    [Sustainability, Habit]\n",
       "85           [Sustainability, Ease of Access]\n",
       "86                    [Sustainability, Habit]\n",
       "87                                    [Habit]\n",
       "88        [Preserving our nations resources ]\n",
       "89                           [Sustainability]\n",
       "90                    [Sustainability, Habit]\n",
       "91                           [Sustainability]\n",
       "92                           [Ease of Access]\n",
       "93                                    [Habit]\n",
       "94                           [Ease of Access]\n",
       "95    [Sustainability, Ease of Access, Habit]\n",
       "96                                    [Habit]\n",
       "97                           [Sustainability]\n",
       "98                                    [Habit]\n",
       "99                           [Sustainability]\n",
       "Name: Why do you recycle?, Length: 100, dtype: object"
      ]
     },
     "execution_count": 6,
     "metadata": {},
     "output_type": "execute_result"
    }
   ],
   "source": [
    "type(df['Why do you recycle?'][0][0])\n",
    "df['Why do you recycle?']"
   ]
  },
  {
   "cell_type": "code",
   "execution_count": 7,
   "metadata": {},
   "outputs": [
    {
     "data": {
      "text/plain": [
       "[Sustainability]                                           24\n",
       "[Habit]                                                    23\n",
       "[Sustainability, Habit]                                    16\n",
       "[Sustainability, Ease of Access, Habit]                    16\n",
       "[Ease of Access]                                           11\n",
       "[Ease of Access, Habit]                                     4\n",
       "[Sustainability, Ease of Access]                            3\n",
       "[Preserving our nations resources ]                         1\n",
       "[Required by city]                                          1\n",
       "[Sustainability, Habit, It’s good for the environment ]     1\n",
       "Name: Why do you recycle?, dtype: int64"
      ]
     },
     "execution_count": 7,
     "metadata": {},
     "output_type": "execute_result"
    }
   ],
   "source": [
    "df['Why do you recycle?'].value_counts(dropna=False)"
   ]
  }
 ],
 "metadata": {
  "kernelspec": {
   "display_name": "Python 3",
   "language": "python",
   "name": "python3"
  },
  "language_info": {
   "codemirror_mode": {
    "name": "ipython",
    "version": 3
   },
   "file_extension": ".py",
   "mimetype": "text/x-python",
   "name": "python",
   "nbconvert_exporter": "python",
   "pygments_lexer": "ipython3",
   "version": "3.7.3"
  }
 },
 "nbformat": 4,
 "nbformat_minor": 2
}
