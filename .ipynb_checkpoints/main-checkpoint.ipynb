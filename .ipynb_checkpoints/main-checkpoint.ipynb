{
 "cells": [
  {
   "cell_type": "code",
   "execution_count": 1,
   "metadata": {},
   "outputs": [],
   "source": [
    "#Import packages \n",
    "\n",
    "import numpy as np\n",
    "import pandas as pd\n",
    "import matplotlib.pyplot as plt\n",
    "import statistics\n",
    "from scipy import stats\n",
    "from statsmodels.graphics.mosaicplot import mosaic"
   ]
  },
  {
   "cell_type": "code",
   "execution_count": 2,
   "metadata": {
    "scrolled": false
   },
   "outputs": [],
   "source": [
    "#Import, and slice data (2nd sample group first 100 responses from revised survey, not including 1st sample group of 20)\n",
    "\n",
    "df = pd.read_csv(\"UMass Sustainability Initiative.csv\", sep=\",\")\n"
   ]
  },
  {
   "cell_type": "code",
   "execution_count": 3,
   "metadata": {
    "scrolled": false
   },
   "outputs": [],
   "source": [
    "#basic data analysis for quantitive data, habits and age distribution\n",
    "\n",
    "def distribution(df):\n",
    "    print(f'The mean is {df.mean()} the Standard Erorr of the mean is {stats.sem(df, axis=None, ddof=0)}')\n",
    "    print(f'The variance is {statistics.variance(df)} the standard deviation is {df.std()}')\n",
    "    print(f'The min is {df.min()}, Q1 is {np.quantile(df, .25)}, median is {df.median()}, Q3 is {np.quantile(df, .75)}, max is {df.max()}')\n",
    "    print(f'Skewness: {stats.skew(df)}')\n",
    "        \n",
    "#distribution(df['Habits'])\n"
   ]
  },
  {
   "cell_type": "code",
   "execution_count": 4,
   "metadata": {
    "scrolled": false
   },
   "outputs": [
    {
     "data": {
      "text/html": [
       "<div>\n",
       "<style scoped>\n",
       "    .dataframe tbody tr th:only-of-type {\n",
       "        vertical-align: middle;\n",
       "    }\n",
       "\n",
       "    .dataframe tbody tr th {\n",
       "        vertical-align: top;\n",
       "    }\n",
       "\n",
       "    .dataframe thead th {\n",
       "        text-align: right;\n",
       "    }\n",
       "</style>\n",
       "<table border=\"1\" class=\"dataframe\">\n",
       "  <thead>\n",
       "    <tr style=\"text-align: right;\">\n",
       "      <th></th>\n",
       "      <th>Timestamp</th>\n",
       "      <th>Age</th>\n",
       "      <th>Gender</th>\n",
       "      <th>Occupation</th>\n",
       "      <th>Year</th>\n",
       "      <th>Major</th>\n",
       "      <th>On Campus</th>\n",
       "      <th>Location</th>\n",
       "      <th>Frequency</th>\n",
       "      <th>Reasoning</th>\n",
       "      <th>Rules</th>\n",
       "      <th>Likelihood</th>\n",
       "      <th>Symbol</th>\n",
       "      <th>Items</th>\n",
       "      <th>Habits</th>\n",
       "      <th>Whats the best way to reach you for the prize draw? (Enter your Email, Phone, etc. )</th>\n",
       "    </tr>\n",
       "  </thead>\n",
       "  <tbody>\n",
       "    <tr>\n",
       "      <td>0</td>\n",
       "      <td>2020/02/18 4:03:42 PM AST</td>\n",
       "      <td>20</td>\n",
       "      <td>Male</td>\n",
       "      <td>NaN</td>\n",
       "      <td>Sophomore</td>\n",
       "      <td>College of Engineering</td>\n",
       "      <td>Yes</td>\n",
       "      <td>Birch</td>\n",
       "      <td>Often</td>\n",
       "      <td>Sustainability;Ease of Access</td>\n",
       "      <td>Yes</td>\n",
       "      <td>Yes</td>\n",
       "      <td>Yes</td>\n",
       "      <td>Paper;Cardboard;Plastic Bottles;Glass Bottles;...</td>\n",
       "      <td>3</td>\n",
       "      <td>NaN</td>\n",
       "    </tr>\n",
       "    <tr>\n",
       "      <td>1</td>\n",
       "      <td>2020/02/18 4:05:49 PM AST</td>\n",
       "      <td>20</td>\n",
       "      <td>Male</td>\n",
       "      <td>NaN</td>\n",
       "      <td>Junior</td>\n",
       "      <td>College of Engineering</td>\n",
       "      <td>Yes</td>\n",
       "      <td>Aspen</td>\n",
       "      <td>Always</td>\n",
       "      <td>Sustainability;Habit</td>\n",
       "      <td>No</td>\n",
       "      <td>Yes</td>\n",
       "      <td>No</td>\n",
       "      <td>Paper;Cardboard;Plastic Bottles;Glass Bottles;...</td>\n",
       "      <td>4</td>\n",
       "      <td>jegan2@umassd.edu</td>\n",
       "    </tr>\n",
       "    <tr>\n",
       "      <td>2</td>\n",
       "      <td>2020/02/18 4:09:10 PM AST</td>\n",
       "      <td>23</td>\n",
       "      <td>Male</td>\n",
       "      <td>NaN</td>\n",
       "      <td>Junior</td>\n",
       "      <td>College of Engineering</td>\n",
       "      <td>No</td>\n",
       "      <td>NaN</td>\n",
       "      <td>Always</td>\n",
       "      <td>Habit</td>\n",
       "      <td>Yes</td>\n",
       "      <td>NaN</td>\n",
       "      <td>No</td>\n",
       "      <td>Paper;Cardboard;Plastic Bottles;Glass Bottles;...</td>\n",
       "      <td>2</td>\n",
       "      <td>NaN</td>\n",
       "    </tr>\n",
       "  </tbody>\n",
       "</table>\n",
       "</div>"
      ],
      "text/plain": [
       "                   Timestamp Age Gender Occupation       Year  \\\n",
       "0  2020/02/18 4:03:42 PM AST  20   Male        NaN  Sophomore   \n",
       "1  2020/02/18 4:05:49 PM AST  20   Male        NaN     Junior   \n",
       "2  2020/02/18 4:09:10 PM AST  23   Male        NaN     Junior   \n",
       "\n",
       "                    Major On Campus Location Frequency  \\\n",
       "0  College of Engineering       Yes    Birch     Often   \n",
       "1  College of Engineering       Yes    Aspen    Always   \n",
       "2  College of Engineering        No      NaN    Always   \n",
       "\n",
       "                       Reasoning Rules Likelihood Symbol  \\\n",
       "0  Sustainability;Ease of Access   Yes        Yes    Yes   \n",
       "1           Sustainability;Habit    No        Yes     No   \n",
       "2                          Habit   Yes        NaN     No   \n",
       "\n",
       "                                               Items  Habits  \\\n",
       "0  Paper;Cardboard;Plastic Bottles;Glass Bottles;...       3   \n",
       "1  Paper;Cardboard;Plastic Bottles;Glass Bottles;...       4   \n",
       "2  Paper;Cardboard;Plastic Bottles;Glass Bottles;...       2   \n",
       "\n",
       "  Whats the best way to reach you for the prize draw? (Enter your Email, Phone, etc. )  \n",
       "0                                                NaN                                    \n",
       "1                                  jegan2@umassd.edu                                    \n",
       "2                                                NaN                                    "
      ]
     },
     "execution_count": 4,
     "metadata": {},
     "output_type": "execute_result"
    }
   ],
   "source": [
    "#Data Cleaning\n",
    "\n",
    "df.rename(columns = { 'How old are you?':'Age', 'What is your gender?':'Gender', 'What occupation do you hold in the University?':'Occupation',\n",
    "                     'What year are you?':'Year', 'What is your major?':'Major',\n",
    "                     'Do you live on campus?':'On Campus', 'If you do live on campus, where do live?':'Location',\n",
    "                     'How often do you recycle?':'Frequency', \"Why do you recycle? (Don't answer if you don't)\":'Reasoning',\n",
    "                     'Are the recycling rules on campus clearly presented?':'Rules', \n",
    "                     'If not, if the recycling rules were clearer would you be more likely to recycle?':'Likelihood',\n",
    "                     'Do you look for the recycle symbol before recycling?':'Symbol', 'What items do you usually recycle?':'Items',\n",
    "                     'Did the survey overall make you think about your own personal recycling methods and habits?':'Habits',\n",
    "                     'Whats the best way to reach you for the prize draw? (Email, Phone, etc. )':'Prize'}, inplace = True)\n",
    "\n",
    "#fill with None?\n",
    "#df.fillna(None, inplace=True)\n",
    "\n",
    "#Splitting strings into arrays, not actually useful! Strings have useful methods see electronics cell below\n",
    "#df['Reasoning'] = df['Reasoning'].str.split(\";\", expand = False)\n",
    "#df['Items'] = df['Items'].str.split(\";\", expand = False)\n",
    "\n",
    "#age data cleaning....\n",
    "df['Age'].replace(to_replace = \"Twenty\", value = int(20), inplace = True) \n",
    "df['Age'].replace(dict.fromkeys(['I am banes', 'RECYCLING IS FOR NERDS'], int(20)), inplace = True)\n",
    "#df['Age'].replace(to_replace = 1, value = 20, inplace = True) \n",
    "\n",
    "#Replacing Majors with relevant groups, by engineers, Computer Science, Business \n",
    "df['Major'].replace(dict.fromkeys(['CIS', 'Computer Science', 'Computer science', 'Computer science'], \n",
    "                                  'College of Engineering'), inplace = True)\n",
    "df['Major'].replace(dict.fromkeys(['MIS', 'Accounting', 'Marketing'], 'College of Business'), inplace = True)\n",
    "\n",
    "#focus group 1 is now df1\n",
    "df1 = df.iloc[0:100]\n",
    "\n",
    "df.head(3)"
   ]
  },
  {
   "cell_type": "code",
   "execution_count": 5,
   "metadata": {
    "scrolled": true
   },
   "outputs": [
    {
     "name": "stdout",
     "output_type": "stream",
     "text": [
      "The mean is 20.995515695067265 the Standard Erorr of the mean is 0.20681338978597666\n",
      "The variance is 19.119080969416032 the standard deviation is 4.372537131851029\n",
      "The min is 1, Q1 is 19.0, median is 20.0, Q3 is 21.0, max is 69\n",
      "Skewness: 5.248536725869289\n"
     ]
    }
   ],
   "source": [
    "# age data analysis, pain in the neck\n",
    "#df['Age'].fillna(method = 'ffill')\n",
    "#df.reset_index(drop=True)\n",
    "#df['Age'].dtype #object type\n",
    "df['Age'].value_counts()\n",
    "df.Age = df.Age.astype(int)\n",
    "#print(df['Age'].mean(skipna=True))\n",
    "\n",
    "distribution(df['Age'])\n",
    "\n"
   ]
  },
  {
   "cell_type": "code",
   "execution_count": 6,
   "metadata": {},
   "outputs": [
    {
     "name": "stdout",
     "output_type": "stream",
     "text": [
      "The mean is 3.820627802690583 the Standard Erorr of the mean is 0.04991749634132685\n",
      "The variance is 1.113820728573588 the standard deviation is 1.05537705516729\n",
      "The min is 1, Q1 is 3.0, median is 4.0, Q3 is 5.0, max is 5\n",
      "Skewness: -0.8778922187614709\n"
     ]
    },
    {
     "data": {
      "text/plain": [
       "4    172\n",
       "5    129\n",
       "3    103\n",
       "1     22\n",
       "2     20\n",
       "Name: Habits, dtype: int64"
      ]
     },
     "execution_count": 6,
     "metadata": {},
     "output_type": "execute_result"
    }
   ],
   "source": [
    "# habits data analysis, luckily a lot easier\n",
    "#print(df['Habits'].mean(skipna=True))\n",
    "\n",
    "distribution(df['Habits'])\n",
    "df['Habits'].value_counts()\n"
   ]
  },
  {
   "cell_type": "code",
   "execution_count": 7,
   "metadata": {},
   "outputs": [],
   "source": [
    "#basic data analysis for qualtitve data, Major Location Frequency Reasoning Items ... etc\n",
    "\n",
    "#to be filled in..."
   ]
  },
  {
   "cell_type": "code",
   "execution_count": 8,
   "metadata": {
    "scrolled": true
   },
   "outputs": [
    {
     "data": {
      "text/html": [
       "<div>\n",
       "<style scoped>\n",
       "    .dataframe tbody tr th:only-of-type {\n",
       "        vertical-align: middle;\n",
       "    }\n",
       "\n",
       "    .dataframe tbody tr th {\n",
       "        vertical-align: top;\n",
       "    }\n",
       "\n",
       "    .dataframe thead th {\n",
       "        text-align: right;\n",
       "    }\n",
       "</style>\n",
       "<table border=\"1\" class=\"dataframe\">\n",
       "  <thead>\n",
       "    <tr style=\"text-align: right;\">\n",
       "      <th></th>\n",
       "      <th>Timestamp</th>\n",
       "      <th>Age</th>\n",
       "      <th>Gender</th>\n",
       "      <th>Occupation</th>\n",
       "      <th>Year</th>\n",
       "      <th>Major</th>\n",
       "      <th>On Campus</th>\n",
       "      <th>Location</th>\n",
       "      <th>Frequency</th>\n",
       "      <th>Reasoning</th>\n",
       "      <th>Rules</th>\n",
       "      <th>Likelihood</th>\n",
       "      <th>Symbol</th>\n",
       "      <th>Items</th>\n",
       "      <th>Habits</th>\n",
       "      <th>Whats the best way to reach you for the prize draw? (Enter your Email, Phone, etc. )</th>\n",
       "    </tr>\n",
       "  </thead>\n",
       "  <tbody>\n",
       "    <tr>\n",
       "      <td>136</td>\n",
       "      <td>2020/02/19 10:25:11 AM AST</td>\n",
       "      <td>33</td>\n",
       "      <td>Female</td>\n",
       "      <td>NaN</td>\n",
       "      <td>Junior</td>\n",
       "      <td>ABSN</td>\n",
       "      <td>No</td>\n",
       "      <td>NaN</td>\n",
       "      <td>Sometimes</td>\n",
       "      <td>Ease of Access</td>\n",
       "      <td>Yes</td>\n",
       "      <td>Yes</td>\n",
       "      <td>Yes</td>\n",
       "      <td>Cardboard;Plastic Bottles;Glass Bottles</td>\n",
       "      <td>4</td>\n",
       "      <td>jamie.l.eldridge@gmail.com</td>\n",
       "    </tr>\n",
       "    <tr>\n",
       "      <td>280</td>\n",
       "      <td>2020/02/24 3:42:21 PM AST</td>\n",
       "      <td>21</td>\n",
       "      <td>Male</td>\n",
       "      <td>Student</td>\n",
       "      <td>Junior</td>\n",
       "      <td>AGA</td>\n",
       "      <td>Yes</td>\n",
       "      <td>Aspen</td>\n",
       "      <td>Sometimes</td>\n",
       "      <td>Sustainability</td>\n",
       "      <td>No</td>\n",
       "      <td>Yes</td>\n",
       "      <td>Yes</td>\n",
       "      <td>Cardboard;Glass Bottles;Aluminum Cans</td>\n",
       "      <td>4</td>\n",
       "      <td>NaN</td>\n",
       "    </tr>\n",
       "    <tr>\n",
       "      <td>224</td>\n",
       "      <td>2020/02/19 4:19:06 PM AST</td>\n",
       "      <td>21</td>\n",
       "      <td>Male</td>\n",
       "      <td>NaN</td>\n",
       "      <td>Senior</td>\n",
       "      <td>Accounting</td>\n",
       "      <td>Yes</td>\n",
       "      <td>Dells</td>\n",
       "      <td>Often</td>\n",
       "      <td>Ease of Access</td>\n",
       "      <td>I didn't know there were any recycling rules!</td>\n",
       "      <td>No</td>\n",
       "      <td>No</td>\n",
       "      <td>Paper;Cardboard;Plastic Bottles;Glass Bottles;...</td>\n",
       "      <td>4</td>\n",
       "      <td>dadamski@umassd.edu</td>\n",
       "    </tr>\n",
       "    <tr>\n",
       "      <td>209</td>\n",
       "      <td>2020/02/19 2:41:08 PM AST</td>\n",
       "      <td>22</td>\n",
       "      <td>Male</td>\n",
       "      <td>NaN</td>\n",
       "      <td>Senior</td>\n",
       "      <td>Accounting</td>\n",
       "      <td>Yes</td>\n",
       "      <td>Dells</td>\n",
       "      <td>Sometimes</td>\n",
       "      <td>Habit</td>\n",
       "      <td>Yes</td>\n",
       "      <td>No</td>\n",
       "      <td>Yes</td>\n",
       "      <td>Paper;Cardboard;Plastic Bottles;Plastic Bags;G...</td>\n",
       "      <td>4</td>\n",
       "      <td>sbarrett1@umassd.edu</td>\n",
       "    </tr>\n",
       "    <tr>\n",
       "      <td>330</td>\n",
       "      <td>2020/02/25 5:31:10 PM AST</td>\n",
       "      <td>21</td>\n",
       "      <td>Male</td>\n",
       "      <td>Student</td>\n",
       "      <td>Senior</td>\n",
       "      <td>Accounting</td>\n",
       "      <td>Yes</td>\n",
       "      <td>Dells</td>\n",
       "      <td>Sometimes</td>\n",
       "      <td>Ease of Access</td>\n",
       "      <td>No</td>\n",
       "      <td>No</td>\n",
       "      <td>No</td>\n",
       "      <td>Electronics;None</td>\n",
       "      <td>4</td>\n",
       "      <td>NaN</td>\n",
       "    </tr>\n",
       "    <tr>\n",
       "      <td>...</td>\n",
       "      <td>...</td>\n",
       "      <td>...</td>\n",
       "      <td>...</td>\n",
       "      <td>...</td>\n",
       "      <td>...</td>\n",
       "      <td>...</td>\n",
       "      <td>...</td>\n",
       "      <td>...</td>\n",
       "      <td>...</td>\n",
       "      <td>...</td>\n",
       "      <td>...</td>\n",
       "      <td>...</td>\n",
       "      <td>...</td>\n",
       "      <td>...</td>\n",
       "      <td>...</td>\n",
       "      <td>...</td>\n",
       "    </tr>\n",
       "    <tr>\n",
       "      <td>387</td>\n",
       "      <td>2020/02/26 4:57:23 PM AST</td>\n",
       "      <td>20</td>\n",
       "      <td>Male</td>\n",
       "      <td>Student</td>\n",
       "      <td>Sophomore</td>\n",
       "      <td>NaN</td>\n",
       "      <td>Yes</td>\n",
       "      <td>Pine Dale</td>\n",
       "      <td>Often</td>\n",
       "      <td>Sustainability;Ease of Access;Habit;Concern fo...</td>\n",
       "      <td>I didn't know there were any recycling rules!</td>\n",
       "      <td>Yes</td>\n",
       "      <td>Yes</td>\n",
       "      <td>Paper;Plastic Bottles;Plastic Bags;Glass Bottl...</td>\n",
       "      <td>3</td>\n",
       "      <td>9783824947</td>\n",
       "    </tr>\n",
       "    <tr>\n",
       "      <td>398</td>\n",
       "      <td>2020/02/27 5:52:42 PM AST</td>\n",
       "      <td>22</td>\n",
       "      <td>Female</td>\n",
       "      <td>Student</td>\n",
       "      <td>Graduate</td>\n",
       "      <td>NaN</td>\n",
       "      <td>Yes</td>\n",
       "      <td>Ivy</td>\n",
       "      <td>Often</td>\n",
       "      <td>Ease of Access</td>\n",
       "      <td>Yes</td>\n",
       "      <td>NaN</td>\n",
       "      <td>Yes</td>\n",
       "      <td>Cardboard;Plastic Bottles;Plastic Bags</td>\n",
       "      <td>4</td>\n",
       "      <td>9125321665</td>\n",
       "    </tr>\n",
       "    <tr>\n",
       "      <td>405</td>\n",
       "      <td>2020/02/28 10:18:50 AM AST</td>\n",
       "      <td>21</td>\n",
       "      <td>Female</td>\n",
       "      <td>Student</td>\n",
       "      <td>Sophomore</td>\n",
       "      <td>NaN</td>\n",
       "      <td>Yes</td>\n",
       "      <td>Pine Dale</td>\n",
       "      <td>Often</td>\n",
       "      <td>Sustainability;Habit</td>\n",
       "      <td>No</td>\n",
       "      <td>Yes</td>\n",
       "      <td>Yes</td>\n",
       "      <td>Paper;Cardboard;Plastic Bottles;Plastic Bags</td>\n",
       "      <td>5</td>\n",
       "      <td>victoria2222222@gmail.com</td>\n",
       "    </tr>\n",
       "    <tr>\n",
       "      <td>416</td>\n",
       "      <td>2020/03/02 11:06:52 AM AST</td>\n",
       "      <td>20</td>\n",
       "      <td>Male</td>\n",
       "      <td>Student</td>\n",
       "      <td>Sophomore</td>\n",
       "      <td>NaN</td>\n",
       "      <td>Yes</td>\n",
       "      <td>Pine Dale</td>\n",
       "      <td>Often</td>\n",
       "      <td>Sustainability;Ease of Access;Habit</td>\n",
       "      <td>I didn't know there were any recycling rules!</td>\n",
       "      <td>Yes</td>\n",
       "      <td>Yes</td>\n",
       "      <td>Paper;Plastic Bottles;Plastic Bags;Glass Bottl...</td>\n",
       "      <td>4</td>\n",
       "      <td>9783824947</td>\n",
       "    </tr>\n",
       "    <tr>\n",
       "      <td>444</td>\n",
       "      <td>2020/03/09 10:06:55 AM AST</td>\n",
       "      <td>22</td>\n",
       "      <td>Male</td>\n",
       "      <td>Student</td>\n",
       "      <td>Senior</td>\n",
       "      <td>NaN</td>\n",
       "      <td>Yes</td>\n",
       "      <td>Willow</td>\n",
       "      <td>Often</td>\n",
       "      <td>Sustainability</td>\n",
       "      <td>No</td>\n",
       "      <td>Yes</td>\n",
       "      <td>Yes</td>\n",
       "      <td>Paper;Cardboard;Plastic Bottles;Glass Bottles;...</td>\n",
       "      <td>3</td>\n",
       "      <td>alopes12@umassd.edu</td>\n",
       "    </tr>\n",
       "  </tbody>\n",
       "</table>\n",
       "<p>446 rows × 16 columns</p>\n",
       "</div>"
      ],
      "text/plain": [
       "                      Timestamp  Age  Gender Occupation       Year  \\\n",
       "136  2020/02/19 10:25:11 AM AST   33  Female        NaN     Junior   \n",
       "280   2020/02/24 3:42:21 PM AST   21    Male    Student     Junior   \n",
       "224   2020/02/19 4:19:06 PM AST   21    Male        NaN     Senior   \n",
       "209   2020/02/19 2:41:08 PM AST   22    Male        NaN     Senior   \n",
       "330   2020/02/25 5:31:10 PM AST   21    Male    Student     Senior   \n",
       "..                          ...  ...     ...        ...        ...   \n",
       "387   2020/02/26 4:57:23 PM AST   20    Male    Student  Sophomore   \n",
       "398   2020/02/27 5:52:42 PM AST   22  Female    Student   Graduate   \n",
       "405  2020/02/28 10:18:50 AM AST   21  Female    Student  Sophomore   \n",
       "416  2020/03/02 11:06:52 AM AST   20    Male    Student  Sophomore   \n",
       "444  2020/03/09 10:06:55 AM AST   22    Male    Student     Senior   \n",
       "\n",
       "           Major On Campus   Location  Frequency  \\\n",
       "136         ABSN        No        NaN  Sometimes   \n",
       "280          AGA       Yes      Aspen  Sometimes   \n",
       "224  Accounting        Yes      Dells      Often   \n",
       "209  Accounting        Yes      Dells  Sometimes   \n",
       "330  Accounting        Yes      Dells  Sometimes   \n",
       "..           ...       ...        ...        ...   \n",
       "387          NaN       Yes  Pine Dale      Often   \n",
       "398          NaN       Yes        Ivy      Often   \n",
       "405          NaN       Yes  Pine Dale      Often   \n",
       "416          NaN       Yes  Pine Dale      Often   \n",
       "444          NaN       Yes     Willow      Often   \n",
       "\n",
       "                                             Reasoning  \\\n",
       "136                                     Ease of Access   \n",
       "280                                     Sustainability   \n",
       "224                                     Ease of Access   \n",
       "209                                              Habit   \n",
       "330                                     Ease of Access   \n",
       "..                                                 ...   \n",
       "387  Sustainability;Ease of Access;Habit;Concern fo...   \n",
       "398                                     Ease of Access   \n",
       "405                               Sustainability;Habit   \n",
       "416                Sustainability;Ease of Access;Habit   \n",
       "444                                     Sustainability   \n",
       "\n",
       "                                             Rules Likelihood Symbol  \\\n",
       "136                                            Yes        Yes    Yes   \n",
       "280                                             No        Yes    Yes   \n",
       "224  I didn't know there were any recycling rules!         No     No   \n",
       "209                                            Yes         No    Yes   \n",
       "330                                             No         No     No   \n",
       "..                                             ...        ...    ...   \n",
       "387  I didn't know there were any recycling rules!        Yes    Yes   \n",
       "398                                            Yes        NaN    Yes   \n",
       "405                                             No        Yes    Yes   \n",
       "416  I didn't know there were any recycling rules!        Yes    Yes   \n",
       "444                                             No        Yes    Yes   \n",
       "\n",
       "                                                 Items  Habits  \\\n",
       "136            Cardboard;Plastic Bottles;Glass Bottles       4   \n",
       "280              Cardboard;Glass Bottles;Aluminum Cans       4   \n",
       "224  Paper;Cardboard;Plastic Bottles;Glass Bottles;...       4   \n",
       "209  Paper;Cardboard;Plastic Bottles;Plastic Bags;G...       4   \n",
       "330                                   Electronics;None       4   \n",
       "..                                                 ...     ...   \n",
       "387  Paper;Plastic Bottles;Plastic Bags;Glass Bottl...       3   \n",
       "398             Cardboard;Plastic Bottles;Plastic Bags       4   \n",
       "405       Paper;Cardboard;Plastic Bottles;Plastic Bags       5   \n",
       "416  Paper;Plastic Bottles;Plastic Bags;Glass Bottl...       4   \n",
       "444  Paper;Cardboard;Plastic Bottles;Glass Bottles;...       3   \n",
       "\n",
       "    Whats the best way to reach you for the prize draw? (Enter your Email, Phone, etc. )  \n",
       "136                         jamie.l.eldridge@gmail.com                                    \n",
       "280                                                NaN                                    \n",
       "224                                dadamski@umassd.edu                                    \n",
       "209                               sbarrett1@umassd.edu                                    \n",
       "330                                                NaN                                    \n",
       "..                                                 ...                                    \n",
       "387                                         9783824947                                    \n",
       "398                                         9125321665                                    \n",
       "405                          victoria2222222@gmail.com                                    \n",
       "416                                         9783824947                                    \n",
       "444                                alopes12@umassd.edu                                    \n",
       "\n",
       "[446 rows x 16 columns]"
      ]
     },
     "execution_count": 8,
     "metadata": {},
     "output_type": "execute_result"
    }
   ],
   "source": [
    "#Sorting entries (potential group of interest could be people with low habits, majority of people had high schore for habits)\n",
    "\n",
    "df.sort_values('Major', ascending=True)"
   ]
  },
  {
   "cell_type": "code",
   "execution_count": 9,
   "metadata": {
    "scrolled": true
   },
   "outputs": [
    {
     "data": {
      "image/png": "[encoded data removed]",
      "text/plain": [
       "<Figure size 432x288 with 1 Axes>"
      ]
     },
     "metadata": {},
     "output_type": "display_data"
    }
   ],
   "source": [
    "#Initial data analysis with Bar plots on recycling frequency (Focus Group Students)\n",
    "#we can assume that all first 100 surveys are students since we manually surveyed students with QR codes on our phones\n",
    "\n",
    "plt.style.use('fivethirtyeight')\n",
    "x = np.arange(5)\n",
    "\n",
    "plt.bar(x, df1['Frequency'].value_counts(), align='center', alpha=0.5)\n",
    "plt.xticks(x, ('Always', 'Often', 'Sometimes', 'Rarely', 'Never'))\n",
    "plt.title('Frequency of Recycling Among Students')\n",
    "plt.xlabel('How often do you recycle?')\n",
    "plt.ylabel('Focus Group 2 Students')\n",
    "plt.show()\n",
    "#cumulative frequency would be cool on the graph above, Pareto Chart"
   ]
  },
  {
   "cell_type": "code",
   "execution_count": 10,
   "metadata": {
    "scrolled": false
   },
   "outputs": [
    {
     "data": {
      "image/png": "[encoded data removed]",
      "text/plain": [
       "<Figure size 432x288 with 1 Axes>"
      ]
     },
     "metadata": {},
     "output_type": "display_data"
    },
    {
     "data": {
      "text/plain": [
       "20    119\n",
       "21    100\n",
       "19     84\n",
       "18     49\n",
       "22     34\n",
       "23     18\n",
       "24      8\n",
       "25      7\n",
       "29      6\n",
       "27      4\n",
       "33      3\n",
       "45      2\n",
       "30      2\n",
       "17      1\n",
       "69      1\n",
       "26      1\n",
       "50      1\n",
       "28      1\n",
       "31      1\n",
       "35      1\n",
       "42      1\n",
       "47      1\n",
       "1       1\n",
       "Name: Age, dtype: int64"
      ]
     },
     "execution_count": 10,
     "metadata": {},
     "output_type": "execute_result"
    }
   ],
   "source": [
    "#\"histogram\" and bar plot of Age \n",
    "\n",
    "plt.hist(df['Age'], edgecolor='black')\n",
    "plt.show()\n",
    "\n",
    "#above plot isn't actually a histogram its a bar graph but I'm having difficult formatting age on a bar plot\n",
    "#Using value counts orders the series by frequency which isn't wanted waiting to format graph labels \n",
    "#below code doesn't work\n",
    "#plt.bar(x, df['Age'].value_counts(), edgecolor='black')\n",
    "#plt.show()\n",
    "\n",
    "#useful to consider\n",
    "df['Age'].value_counts()"
   ]
  },
  {
   "cell_type": "code",
   "execution_count": 11,
   "metadata": {
    "scrolled": true
   },
   "outputs": [
    {
     "data": {
      "image/png": "[encoded data removed]",
      "text/plain": [
       "<Figure size 432x288 with 1 Axes>"
      ]
     },
     "metadata": {},
     "output_type": "display_data"
    }
   ],
   "source": [
    "#Data analysis on Items column, specifically electronic subset\n",
    "\n",
    "AC = df.Items.str.contains(pat = 'Electronics') \n",
    "#AC.value_counts().plot(kind='bar'), same as code below without formatting\n",
    "\n",
    "x = np.arange(2)\n",
    "\n",
    "plt.bar(x, AC.value_counts(), align='center', alpha=0.5)\n",
    "plt.xticks(x, (\"Doesn't Recycle Electronics\", 'Recycles Electronics'))\n",
    "plt.title('Students who Recycle Electronics')\n",
    "plt.xlabel('What items do you usually recycle?')\n",
    "plt.ylabel('Focus Group 2 Students')\n",
    "plt.show()\n",
    "\n",
    "#df1.Items.value_counts()"
   ]
  },
  {
   "cell_type": "code",
   "execution_count": 12,
   "metadata": {
    "scrolled": true
   },
   "outputs": [
    {
     "data": {
      "image/png": "[encoded data removed]",
      "text/plain": [
       "<Figure size 432x288 with 3 Axes>"
      ]
     },
     "metadata": {},
     "output_type": "display_data"
    }
   ],
   "source": [
    "#mosaic plot\n",
    "m = df.groupby([\"Symbol\", \"Likelihood\"]).sum()\n",
    "\n",
    "mosaic(df, [\"Habits\", \"Symbol\"])\n",
    "plt.show()"
   ]
  },
  {
   "cell_type": "code",
   "execution_count": 13,
   "metadata": {},
   "outputs": [
    {
     "data": {
      "image/png": "[encoded data removed]",
      "text/plain": [
       "<Figure size 432x288 with 1 Axes>"
      ]
     },
     "metadata": {},
     "output_type": "display_data"
    }
   ],
   "source": [
    "#Data analysis on Reasoning column specifically how manuy people put 'Sustainability' as a reason for them recycling \n",
    "\n",
    "df1 = df.Reasoning.str.contains(pat = 'Sustainability')\n",
    "df1.value_counts()\n",
    "df1.value_counts().plot(kind='bar')\n",
    "pl1 = df.Reasoning.str.contains('Sustainability').sum()"
   ]
  },
  {
   "cell_type": "code",
   "execution_count": 14,
   "metadata": {},
   "outputs": [
    {
     "data": {
      "image/png": "[encoded data removed]",
      "text/plain": [
       "<Figure size 432x288 with 1 Axes>"
      ]
     },
     "metadata": {},
     "output_type": "display_data"
    }
   ],
   "source": [
    "#Data analysis on Reasoning column specifically how manuy people put 'Habit' as a reason for them recycling \n",
    "df2 = df.Reasoning.str.contains(pat = 'Habit')\n",
    "df2.value_counts()\n",
    "df2.value_counts().plot(kind='bar')\n",
    "pl2 = df.Reasoning.str.contains('Habit').sum()\n",
    "#print(df.Reasoning.str.contains('Habit').sum())    "
   ]
  },
  {
   "cell_type": "code",
   "execution_count": 15,
   "metadata": {},
   "outputs": [
    {
     "data": {
      "image/png": "[encoded data removed]",
      "text/plain": [
       "<Figure size 432x288 with 1 Axes>"
      ]
     },
     "metadata": {},
     "output_type": "display_data"
    }
   ],
   "source": [
    "#Data analysis on Reasoning column specifically how manuy people put 'Ease of Access' as a reason for them recycling \n",
    "df3 = df.Reasoning.str.contains(pat = 'Ease of Access')\n",
    "df3.value_counts()\n",
    "df3.value_counts().plot(kind='bar')\n",
    "pl3 = df.Reasoning.str.contains('Ease of Access').sum()\n",
    "#print(df.Reasoning.str.contains('Ease of Access').sum())"
   ]
  },
  {
   "cell_type": "code",
   "execution_count": 16,
   "metadata": {
    "scrolled": true
   },
   "outputs": [
    {
     "name": "stdout",
     "output_type": "stream",
     "text": [
      "271\n"
     ]
    },
    {
     "data": {
      "image/png": "[encoded data removed]",
      "text/plain": [
       "<Figure size 432x288 with 1 Axes>"
      ]
     },
     "metadata": {},
     "output_type": "display_data"
    }
   ],
   "source": [
    "#prints graph of how many people chose what fro their reason for recycling \n",
    "#there is more than 100 answers because people could choose more than one thing, to my detriment\n",
    "print(df.Reasoning.str.contains('Sustainability').sum())    \n",
    "\n",
    "df = pd.DataFrame({'Reasons for Recycling':['Sustainability', 'Habit', 'Ease of Access'], 'Number of People':[pl1, pl2, pl3]}) \n",
    "ax = df.plot.bar(x='Reasons for Recycling', y='Number of People', rot=0)"
   ]
  },
  {
   "cell_type": "code",
   "execution_count": null,
   "metadata": {},
   "outputs": [],
   "source": [
    "#Jonas' Distaster Area 2.0\n",
    "#plt.style.use('classic')\n",
    "#Recycling Frequency Pie Chart\n",
    "fig1, ax1 = plt.subplots()\n",
    "labels = df['Frequency'].value_counts().index.tolist()\n",
    "\n",
    "wedges, texts, autotexts = ax1.pie(df['Frequency'].value_counts(), autopct='%1.1f%%', wedgeprops={'edgecolor': 'black'}, textprops=dict(color='w'))\n",
    "ax1.set_title('Recycling Frequency')\n",
    "\n",
    "ax1.legend(loc=\"center right\", bbox_to_anchor=(1, 0, 0.5, 1), labels=labels)\n",
    "plt.setp(autotexts, size=12, weight=\"bold\")\n",
    "\n",
    "#Recycling Reason Bargraph \n",
    "#fig2, ax2 = plt.subplots()\n",
    "\n",
    "#ax2.scatter(df['Reasoning'], df['Age'], marker='D', s=10, c='black')\n",
    "\n",
    "\n",
    "#Bar Chart Gender\n",
    "fig3, ax3 = plt.subplots()\n",
    "x = df['Gender'].value_counts().index.tolist()\n",
    "y = df['Gender'].value_counts().tolist()\n",
    "ax3.bar(x, y, edgecolor='black')\n",
    "\n",
    "\n",
    "ax3.set_axisbelow(True)\n",
    "ax3.set_xlabel('Genders')\n",
    "ax3.set_ylabel('Number of Students')\n",
    "ax3.set_title('Number of Students per Gender')\n",
    "\n",
    "\n",
    "#Age Boxplot\n",
    "fig4, ax4 = plt.subplots()\n",
    "\n",
    "ax4.boxplot(df['Age'], meanline=True, showmeans=True, sym='r+')\n",
    "\n",
    "ax4.set_axisbelow(True)\n",
    "ax4.set_xlabel('')\n",
    "ax4.set_ylabel('Frequency')\n",
    "\n",
    "\n",
    "#Rules and likeliehood Mosaic\n",
    "#m = df.groupby(['Rules','Likelihood']).sum()\n",
    "mosaic(df, [\"Rules\", \"Likelihood\"])\n",
    "\n",
    "\n",
    "\n",
    "\n",
    "#lets try something cool\n",
    "fig3, ax3 = plt.subplots()\n",
    "x = df['Major'].value_counts().index.tolist()\n",
    "y = df['Major'].value_counts().tolist()\n",
    "ax3.barh(x, y, edgecolor='black', )\n",
    "\n",
    "\n",
    "ax3.set_axisbelow(True)\n",
    "ax3.set_xlabel('Genders')\n",
    "ax3.set_ylabel('Number of Students')\n",
    "ax3.set_title('Number of Students per Gender')\n",
    "\n",
    "print(plt.style.available)\n",
    "\n",
    "plt.tight_layout()\n",
    "plt.show()"
   ]
  },
  {
   "cell_type": "code",
   "execution_count": null,
   "metadata": {},
   "outputs": [],
   "source": []
  }
 ],
 "metadata": {
  "kernelspec": {
   "display_name": "Python 3",
   "language": "python",
   "name": "python3"
  },
  "language_info": {
   "codemirror_mode": {
    "name": "ipython",
    "version": 3
   },
   "file_extension": ".py",
   "mimetype": "text/x-python",
   "name": "python",
   "nbconvert_exporter": "python",
   "pygments_lexer": "ipython3",
   "version": "3.7.4"
  }
 },
 "nbformat": 4,
 "nbformat_minor": 2
}
